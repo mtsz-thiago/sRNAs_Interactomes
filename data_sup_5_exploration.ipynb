{
 "cells": [
  {
   "cell_type": "code",
   "execution_count": 132,
   "metadata": {},
   "outputs": [],
   "source": [
    "import pandas as pd\n",
    "from pathlib import Path\n",
    "from Bio import AlignIO\n",
    "from Bio import SeqIO\n",
    "from Bio.Seq import Seq\n",
    "from Bio.SeqRecord import SeqRecord\n",
    "from Bio.SeqFeature import SeqFeature, FeatureLocation\n",
    "from Bio.Blast import NCBIWWW, NCBIXML\n",
    "from matplotlib import pyplot as plt\n",
    "import numpy as np\n",
    "import seaborn as sns\n",
    "import re\n",
    "\n",
    "from src.sup_data_to_fasta import load_xlsx\n",
    "\n",
    "sup5_file_path = Path(\"data/Liu_sup5_data.xlsx\")\n",
    "alignments_files_paths = [\n",
    "    Path(\"output/EP-OD0_alignments_results.tsv\"),\n",
    "    Path(\"output/ESP-OD2_alignments_results.tsv\"),\n",
    "    Path(\"output/SP-OD2_alignments_results.tsv\")\n",
    "    ]"
   ]
  },
  {
   "cell_type": "markdown",
   "metadata": {},
   "source": [
    "# Análise Exploratória dos Dados Suplementares 5\n",
    "\n",
    "## Sobre\n",
    "\n",
    "Este notebook contém uma análise exploratória dos dados fornecidos por Liu, et al. No [suplemento 5](https://www.nature.com/articles/s41467-023-43632-1#additional-information\n",
    ") com o objetivo de averiguar os tratamentos executados no artigo"
   ]
  },
  {
   "cell_type": "code",
   "execution_count": 133,
   "metadata": {},
   "outputs": [],
   "source": [
    "def add_scenario_column(df_dict):\n",
    "    return {k:df.assign(scenario=k) for k,df in df_dict.items()}\n",
    "\n",
    "def extract_scenario_from_file_path(string_arg):\n",
    "    return re.search(r\"(.*)-(.*)\", string_arg).group(1)\n",
    "\n",
    "def concat_df_dict(df_dict):\n",
    "    return pd.concat(df_dict.values())\n",
    "\n",
    "alignments_df_list = [pd.read_csv(file_path, sep='\\t') for file_path in alignments_files_paths]\n",
    "alignments_df_dict = {extract_scenario_from_file_path(k.name):v for k,v in zip(alignments_files_paths, alignments_df_list)}\n",
    "alignments_df_dict = add_scenario_column(alignments_df_dict)\n",
    "alignments_df = concat_df_dict(alignments_df_dict)\n",
    "\n",
    "sup5_data_df_dict = load_xlsx(sup5_file_path)\n",
    "sup5_data_df_dict = {extract_scenario_from_file_path(k):v for k,v in sup5_data_df_dict.items()}\n",
    "sup5_data_df_dict = add_scenario_column(sup5_data_df_dict)\n",
    "sup5_data_df = concat_df_dict(sup5_data_df_dict)"
   ]
  },
  {
   "cell_type": "code",
   "execution_count": 137,
   "metadata": {},
   "outputs": [],
   "source": [
    "def should_be_only_one_genome(df):\n",
    "    return df.sseqid.nunique() == 1\n",
    "\n",
    "def query_start_should_always_be_less_than_query_end(df):\n",
    "    return (df.qstart <= df.qend).all()\n",
    "\n",
    "# validationg\n",
    "assert should_be_only_one_genome(alignments_df), \"o banco de dados deveria ter apenas um genoma de referência de Salmonella\" # all alignments are done to same Salmonella enterica genome\n",
    "assert query_start_should_always_be_less_than_query_end(alignments_df), \"O ínicio da query deve ser menor ou igual ao fim da query\""
   ]
  },
  {
   "cell_type": "code",
   "execution_count": 140,
   "metadata": {},
   "outputs": [
    {
     "name": "stdout",
     "output_type": "stream",
     "text": [
      "# queries não alinhadas: 0\n"
     ]
    }
   ],
   "source": [
    "def not_aligned(col):\n",
    "    return col[~col.isin(alignments_df.qseqid)]\n",
    "\n",
    "RNA1_not_aligned = not_aligned(sup5_data_df[\"RNA1 name\"])\n",
    "RNA2_not_aligned = not_aligned(sup5_data_df[\"RNA2 name\"])\n",
    "\n",
    "filtered_alignments_df = alignments_df[alignments_df['qseqid'].isin(RNA1_not_aligned) & alignments_df['qseqid'].isin(RNA2_not_aligned)]\n",
    "print(f\"# queries não alinhadas: {len(filtered_alignments_df)}\")"
   ]
  },
  {
   "cell_type": "code",
   "execution_count": 174,
   "metadata": {},
   "outputs": [
    {
     "data": {
      "text/plain": [
       "True"
      ]
     },
     "execution_count": 174,
     "metadata": {},
     "output_type": "execute_result"
    }
   ],
   "source": [
    "(alignments_df['qaccver'] == alignments_df['qseqid']).all()"
   ]
  }
 ],
 "metadata": {
  "kernelspec": {
   "display_name": "Python 3",
   "language": "python",
   "name": "python3"
  },
  "language_info": {
   "codemirror_mode": {
    "name": "ipython",
    "version": 3
   },
   "file_extension": ".py",
   "mimetype": "text/x-python",
   "name": "python",
   "nbconvert_exporter": "python",
   "pygments_lexer": "ipython3",
   "version": "3.9.2"
  }
 },
 "nbformat": 4,
 "nbformat_minor": 2
}
