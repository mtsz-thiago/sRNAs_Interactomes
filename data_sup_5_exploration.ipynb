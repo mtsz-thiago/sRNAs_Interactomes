{
 "cells": [
  {
   "cell_type": "code",
   "execution_count": 120,
   "metadata": {},
   "outputs": [],
   "source": [
    "import pandas as pd\n",
    "from pathlib import Path\n",
    "from Bio import AlignIO\n",
    "from Bio import SeqIO\n",
    "from Bio.Seq import Seq\n",
    "from Bio.SeqRecord import SeqRecord\n",
    "from Bio.SeqFeature import SeqFeature, FeatureLocation\n",
    "from Bio.Blast import NCBIWWW, NCBIXML"
   ]
  },
  {
   "cell_type": "code",
   "execution_count": 72,
   "metadata": {},
   "outputs": [],
   "source": [
    "input_files = [\"data/EP.csv\", \"data/ESP.csv\", \"data/SP.csv\"]\n",
    "data_dfs = { Path(f).stem:pd.read_csv(f) for f in input_files}"
   ]
  },
  {
   "cell_type": "code",
   "execution_count": 73,
   "metadata": {},
   "outputs": [
    {
     "data": {
      "text/html": [
       "<div>\n",
       "<style scoped>\n",
       "    .dataframe tbody tr th:only-of-type {\n",
       "        vertical-align: middle;\n",
       "    }\n",
       "\n",
       "    .dataframe tbody tr th {\n",
       "        vertical-align: top;\n",
       "    }\n",
       "\n",
       "    .dataframe thead th {\n",
       "        text-align: right;\n",
       "    }\n",
       "</style>\n",
       "<table border=\"1\" class=\"dataframe\">\n",
       "  <thead>\n",
       "    <tr style=\"text-align: right;\">\n",
       "      <th></th>\n",
       "      <th>RNA1 name</th>\n",
       "      <th>RNA2 name</th>\n",
       "      <th>RNA1 Strand</th>\n",
       "      <th>RNA1 from</th>\n",
       "      <th>RNA1 to</th>\n",
       "      <th>RNA1 ligation from</th>\n",
       "      <th>RNA1 ligation to</th>\n",
       "      <th>RNA2 Strand</th>\n",
       "      <th>RNA2 from</th>\n",
       "      <th>RNA2 to</th>\n",
       "      <th>RNA2 ligation from</th>\n",
       "      <th>RNA2 ligation to</th>\n",
       "      <th>Number of interactions</th>\n",
       "      <th>Odds Ratio</th>\n",
       "      <th>Fisher's exact test p-value</th>\n",
       "      <th>RNA1 type</th>\n",
       "      <th>RNA2 type</th>\n",
       "      <th>RNA1 seq</th>\n",
       "      <th>RNA2 seq</th>\n",
       "    </tr>\n",
       "  </thead>\n",
       "  <tbody>\n",
       "    <tr>\n",
       "      <th>0</th>\n",
       "      <td>thrL(SL1344_0001)</td>\n",
       "      <td>GcvB(ncRNA0014)</td>\n",
       "      <td>+</td>\n",
       "      <td>146</td>\n",
       "      <td>170</td>\n",
       "      <td>182</td>\n",
       "      <td>198</td>\n",
       "      <td>+</td>\n",
       "      <td>3156915</td>\n",
       "      <td>3156984</td>\n",
       "      <td>3156808</td>\n",
       "      <td>3156914</td>\n",
       "      <td>10</td>\n",
       "      <td>7,896213417</td>\n",
       "      <td>1,18E-06</td>\n",
       "      <td>5UTR</td>\n",
       "      <td>sRNA</td>\n",
       "      <td>AATACAAGACAGACAAATAAAAATGACAGAGTACACAACATCCATG...</td>\n",
       "      <td>GGAATGCGTGTTCTGATGGGCTTTTGGCTTACGGTTGTGATGTTGT...</td>\n",
       "    </tr>\n",
       "    <tr>\n",
       "      <th>1</th>\n",
       "      <td>SL1344_0018(SL1344_0018).SL1344_0019(SL1344_00...</td>\n",
       "      <td>ArcZ(ncRNA0002)</td>\n",
       "      <td>+</td>\n",
       "      <td>19997</td>\n",
       "      <td>20004</td>\n",
       "      <td>20042</td>\n",
       "      <td>20047</td>\n",
       "      <td>+</td>\n",
       "      <td>3511915</td>\n",
       "      <td>3511919</td>\n",
       "      <td>--</td>\n",
       "      <td>--</td>\n",
       "      <td>22</td>\n",
       "      <td>2121,390825</td>\n",
       "      <td>8,55E-57</td>\n",
       "      <td>IGR</td>\n",
       "      <td>sRNA</td>\n",
       "      <td>ATGATTCAAGCCCTGGTTTACCGGGGCTTTTCTCCACCAGGGACAG...</td>\n",
       "      <td>GGTCAAACCGGGGTCATTTTTTTTC</td>\n",
       "    </tr>\n",
       "    <tr>\n",
       "      <th>2</th>\n",
       "      <td>SL1344_0032(SL1344_0032).SL1344_0033(SL1344_00...</td>\n",
       "      <td>ArcZ(ncRNA0002)</td>\n",
       "      <td>+</td>\n",
       "      <td>35145</td>\n",
       "      <td>35150</td>\n",
       "      <td>--</td>\n",
       "      <td>--</td>\n",
       "      <td>+</td>\n",
       "      <td>3511913</td>\n",
       "      <td>3511918</td>\n",
       "      <td>3511860</td>\n",
       "      <td>3511862</td>\n",
       "      <td>13</td>\n",
       "      <td>8773,839147</td>\n",
       "      <td>2,28E-36</td>\n",
       "      <td>IGR</td>\n",
       "      <td>sRNA</td>\n",
       "      <td>CTTTTATAGTAGCGCCAGGGAAATAA</td>\n",
       "      <td>ATTTCCCTGGTGTTGGCGCAGTATTCGCGCACCCCGGTCAAACCGG...</td>\n",
       "    </tr>\n",
       "    <tr>\n",
       "      <th>3</th>\n",
       "      <td>StyR-29(ncRNA0419)</td>\n",
       "      <td>CyaR(ncRNA0009)</td>\n",
       "      <td>-</td>\n",
       "      <td>52558</td>\n",
       "      <td>52583</td>\n",
       "      <td>52529</td>\n",
       "      <td>52539</td>\n",
       "      <td>+</td>\n",
       "      <td>2228924</td>\n",
       "      <td>2228931</td>\n",
       "      <td>2228863</td>\n",
       "      <td>2228867</td>\n",
       "      <td>21</td>\n",
       "      <td>23,08607016</td>\n",
       "      <td>1,37E-21</td>\n",
       "      <td>sRNA</td>\n",
       "      <td>sRNA</td>\n",
       "      <td>CCTTTGAATTGTCCATATAGAACACATTTGGGAGTTGGACCTTGGC...</td>\n",
       "      <td>ATAAATGCTAGCTGTACCAGGAACCACCTCCTTGGCCTGCGTAATC...</td>\n",
       "    </tr>\n",
       "    <tr>\n",
       "      <th>4</th>\n",
       "      <td>StyR-29(ncRNA0419)</td>\n",
       "      <td>CpxQ(ncRNA0205)</td>\n",
       "      <td>-</td>\n",
       "      <td>52559</td>\n",
       "      <td>52598</td>\n",
       "      <td>52529</td>\n",
       "      <td>52534</td>\n",
       "      <td>+</td>\n",
       "      <td>4292577</td>\n",
       "      <td>4292600</td>\n",
       "      <td>4292541</td>\n",
       "      <td>4292542</td>\n",
       "      <td>10</td>\n",
       "      <td>8,940498395</td>\n",
       "      <td>3,20E-07</td>\n",
       "      <td>sRNA</td>\n",
       "      <td>sRNA</td>\n",
       "      <td>GGGCATATTCCTCGGCCTTTGAATTGTCCATATAGAACACATTTGG...</td>\n",
       "      <td>TTTTCCTTGCCATAGACACCATCCCTGTCTTCCCCCACATGATGTG...</td>\n",
       "    </tr>\n",
       "  </tbody>\n",
       "</table>\n",
       "</div>"
      ],
      "text/plain": [
       "                                           RNA1 name        RNA2 name  \\\n",
       "0                                  thrL(SL1344_0001)  GcvB(ncRNA0014)   \n",
       "1  SL1344_0018(SL1344_0018).SL1344_0019(SL1344_00...  ArcZ(ncRNA0002)   \n",
       "2  SL1344_0032(SL1344_0032).SL1344_0033(SL1344_00...  ArcZ(ncRNA0002)   \n",
       "3                                 StyR-29(ncRNA0419)  CyaR(ncRNA0009)   \n",
       "4                                 StyR-29(ncRNA0419)  CpxQ(ncRNA0205)   \n",
       "\n",
       "  RNA1 Strand  RNA1 from  RNA1 to RNA1 ligation from RNA1 ligation to  \\\n",
       "0           +        146      170                182              198   \n",
       "1           +      19997    20004              20042            20047   \n",
       "2           +      35145    35150                 --               --   \n",
       "3           -      52558    52583              52529            52539   \n",
       "4           -      52559    52598              52529            52534   \n",
       "\n",
       "  RNA2 Strand  RNA2 from  RNA2 to RNA2 ligation from RNA2 ligation to  \\\n",
       "0           +    3156915  3156984            3156808          3156914   \n",
       "1           +    3511915  3511919                 --               --   \n",
       "2           +    3511913  3511918            3511860          3511862   \n",
       "3           +    2228924  2228931            2228863          2228867   \n",
       "4           +    4292577  4292600            4292541          4292542   \n",
       "\n",
       "   Number of interactions   Odds Ratio Fisher's exact test p-value RNA1 type  \\\n",
       "0                      10  7,896213417                    1,18E-06      5UTR   \n",
       "1                      22  2121,390825                    8,55E-57       IGR   \n",
       "2                      13  8773,839147                    2,28E-36       IGR   \n",
       "3                      21  23,08607016                    1,37E-21      sRNA   \n",
       "4                      10  8,940498395                    3,20E-07      sRNA   \n",
       "\n",
       "  RNA2 type                                           RNA1 seq  \\\n",
       "0      sRNA  AATACAAGACAGACAAATAAAAATGACAGAGTACACAACATCCATG...   \n",
       "1      sRNA  ATGATTCAAGCCCTGGTTTACCGGGGCTTTTCTCCACCAGGGACAG...   \n",
       "2      sRNA                         CTTTTATAGTAGCGCCAGGGAAATAA   \n",
       "3      sRNA  CCTTTGAATTGTCCATATAGAACACATTTGGGAGTTGGACCTTGGC...   \n",
       "4      sRNA  GGGCATATTCCTCGGCCTTTGAATTGTCCATATAGAACACATTTGG...   \n",
       "\n",
       "                                            RNA2 seq  \n",
       "0  GGAATGCGTGTTCTGATGGGCTTTTGGCTTACGGTTGTGATGTTGT...  \n",
       "1                          GGTCAAACCGGGGTCATTTTTTTTC  \n",
       "2  ATTTCCCTGGTGTTGGCGCAGTATTCGCGCACCCCGGTCAAACCGG...  \n",
       "3  ATAAATGCTAGCTGTACCAGGAACCACCTCCTTGGCCTGCGTAATC...  \n",
       "4  TTTTCCTTGCCATAGACACCATCCCTGTCTTCCCCCACATGATGTG...  "
      ]
     },
     "execution_count": 73,
     "metadata": {},
     "output_type": "execute_result"
    }
   ],
   "source": [
    "columns = data_dfs[\"EP\"].columns\n",
    "# Check that all headers are the same\n",
    "\n",
    "for k, v in data_dfs.items():\n",
    "    set(columns) == set(v.columns), f\"Columns for {k} are not the same as EP\"\n",
    "\n",
    "data_dfs[\"EP\"].head()"
   ]
  },
  {
   "cell_type": "code",
   "execution_count": 108,
   "metadata": {},
   "outputs": [],
   "source": [
    "def map_record_to_SeqRecord(r, col_name=\"RNA1\"):\n",
    "    strand_code = 1 if r[f\"{col_name} Strand\"] == \"+\" else -1\n",
    "    id = r[f\"{col_name} name\"]\n",
    "    name = r[f\"{col_name} name\"]\n",
    "    seq = Seq(r[f\"{col_name} seq\"])\n",
    "    from_pos = r[f\"{col_name} from\"]\n",
    "    to_pos = r[f\"{col_name} to\"]\n",
    "    type = r[f\"{col_name} type\"]\n",
    "    description = '>' + id + ' ' + ' '\n",
    "    return SeqRecord(\n",
    "        id=id,\n",
    "        description=description,\n",
    "        features=[\n",
    "                SeqFeature(FeatureLocation(from_pos, to_pos, strand=strand_code),type=type)\n",
    "            ],\n",
    "        name=name, \n",
    "        seq=seq)\n",
    "\n",
    "bio_dfs = data_dfs.copy()\n",
    "for k, df in data_dfs.items():\n",
    "    bio_dfs[k+\"_RNA1\"] = df.apply(axis=1, func=lambda x: map_record_to_SeqRecord(x, \"RNA1\"))\n",
    "    bio_dfs[k+\"_RNA2\"] = df.apply(axis=1, func=lambda x: map_record_to_SeqRecord(x, \"RNA2\"))"
   ]
  },
  {
   "cell_type": "code",
   "execution_count": 143,
   "metadata": {},
   "outputs": [],
   "source": [
    "seq = bio_dfs[\"EP_RNA1\"][1]"
   ]
  },
  {
   "cell_type": "code",
   "execution_count": 144,
   "metadata": {},
   "outputs": [
    {
     "data": {
      "text/plain": [
       "Seq('ATGATTCAAGCCCTGGTTTACCGGGGCTTTTCTCCACCAGGGACAGAGGAA')"
      ]
     },
     "execution_count": 144,
     "metadata": {},
     "output_type": "execute_result"
    }
   ],
   "source": [
    "seq.seq"
   ]
  },
  {
   "cell_type": "code",
   "execution_count": 145,
   "metadata": {},
   "outputs": [],
   "source": [
    "\n",
    "# Perform a BLAST search\n",
    "result_handle = NCBIWWW.qblast(\"blastn\", \"GenBank\", seq.seq,  format_type=\"Text\")\n",
    "\n",
    "# # # Save the BLAST result to a file\n",
    "# with open(\"blast_result.xml\", \"w\") as out_handle:\n",
    "#     out_handle.write(result_handle.read())\n",
    "\n",
    "# # Close the result handle\n",
    "# result_handle.close()\n"
   ]
  },
  {
   "cell_type": "code",
   "execution_count": 142,
   "metadata": {},
   "outputs": [
    {
     "ename": "ValueError",
     "evalue": "Your XML file was empty",
     "output_type": "error",
     "traceback": [
      "\u001b[0;31m---------------------------------------------------------------------------\u001b[0m",
      "\u001b[0;31mValueError\u001b[0m                                Traceback (most recent call last)",
      "Cell \u001b[0;32mIn[142], line 2\u001b[0m\n\u001b[1;32m      1\u001b[0m parsed_result \u001b[38;5;241m=\u001b[39m NCBIXML\u001b[38;5;241m.\u001b[39mparse(result_handle)\n\u001b[0;32m----> 2\u001b[0m \u001b[38;5;28;01mfor\u001b[39;00m record \u001b[38;5;129;01min\u001b[39;00m parsed_result:\n\u001b[1;32m      3\u001b[0m     id_query \u001b[38;5;241m=\u001b[39m record\u001b[38;5;241m.\u001b[39malignments[\u001b[38;5;241m0\u001b[39m]\u001b[38;5;241m.\u001b[39mhit_id\n",
      "File \u001b[0;32m~/.local/lib/python3.9/site-packages/Bio/Blast/NCBIXML.py:805\u001b[0m, in \u001b[0;36mparse\u001b[0;34m(handle, debug)\u001b[0m\n\u001b[1;32m    801\u001b[0m     pending \u001b[38;5;241m=\u001b[39m \u001b[38;5;124mb\u001b[39m\u001b[38;5;124m\"\u001b[39m\u001b[38;5;124m\"\u001b[39m\n\u001b[1;32m    803\u001b[0m \u001b[38;5;28;01mif\u001b[39;00m \u001b[38;5;129;01mnot\u001b[39;00m text:\n\u001b[1;32m    804\u001b[0m     \u001b[38;5;66;03m# NO DATA FOUND!\u001b[39;00m\n\u001b[0;32m--> 805\u001b[0m     \u001b[38;5;28;01mraise\u001b[39;00m \u001b[38;5;167;01mValueError\u001b[39;00m(\u001b[38;5;124m\"\u001b[39m\u001b[38;5;124mYour XML file was empty\u001b[39m\u001b[38;5;124m\"\u001b[39m)\n\u001b[1;32m    807\u001b[0m \u001b[38;5;28;01mwhile\u001b[39;00m text:\n\u001b[1;32m    808\u001b[0m     \u001b[38;5;66;03m# We are now starting a new XML file\u001b[39;00m\n\u001b[1;32m    809\u001b[0m     \u001b[38;5;28;01mif\u001b[39;00m \u001b[38;5;129;01mnot\u001b[39;00m text\u001b[38;5;241m.\u001b[39mstartswith(XML_START):\n",
      "\u001b[0;31mValueError\u001b[0m: Your XML file was empty"
     ]
    }
   ],
   "source": [
    "parsed_result = NCBIXML.parse(result_handle)\n",
    "for record in parsed_result:\n",
    "    id_query = record.alignments[0].hit_id"
   ]
  },
  {
   "cell_type": "code",
   "execution_count": 113,
   "metadata": {},
   "outputs": [
    {
     "ename": "AttributeError",
     "evalue": "'str' object has no attribute 'id'",
     "output_type": "error",
     "traceback": [
      "\u001b[0;31m---------------------------------------------------------------------------\u001b[0m",
      "\u001b[0;31mTypeError\u001b[0m                                 Traceback (most recent call last)",
      "File \u001b[0;32m~/.local/lib/python3.9/site-packages/Bio/File.py:72\u001b[0m, in \u001b[0;36mas_handle\u001b[0;34m(handleish, mode, **kwargs)\u001b[0m\n\u001b[1;32m     71\u001b[0m \u001b[38;5;28;01mtry\u001b[39;00m:\n\u001b[0;32m---> 72\u001b[0m     \u001b[38;5;28;01mwith\u001b[39;00m \u001b[38;5;28;43mopen\u001b[39;49m\u001b[43m(\u001b[49m\u001b[43mhandleish\u001b[49m\u001b[43m,\u001b[49m\u001b[43m \u001b[49m\u001b[43mmode\u001b[49m\u001b[43m,\u001b[49m\u001b[43m \u001b[49m\u001b[38;5;241;43m*\u001b[39;49m\u001b[38;5;241;43m*\u001b[39;49m\u001b[43mkwargs\u001b[49m\u001b[43m)\u001b[49m \u001b[38;5;28;01mas\u001b[39;00m fp:\n\u001b[1;32m     73\u001b[0m         \u001b[38;5;28;01myield\u001b[39;00m fp\n",
      "\u001b[0;31mTypeError\u001b[0m: expected str, bytes or os.PathLike object, not TextIOWrapper",
      "\nDuring handling of the above exception, another exception occurred:\n",
      "\u001b[0;31mAttributeError\u001b[0m                            Traceback (most recent call last)",
      "Cell \u001b[0;32mIn[113], line 3\u001b[0m\n\u001b[1;32m      1\u001b[0m \u001b[38;5;28;01mfor\u001b[39;00m k, df \u001b[38;5;129;01min\u001b[39;00m bio_dfs\u001b[38;5;241m.\u001b[39mitems():\n\u001b[1;32m      2\u001b[0m     \u001b[38;5;28;01mwith\u001b[39;00m \u001b[38;5;28mopen\u001b[39m(\u001b[38;5;124mf\u001b[39m\u001b[38;5;124m\"\u001b[39m\u001b[38;5;124moutput/\u001b[39m\u001b[38;5;132;01m{\u001b[39;00mk\u001b[38;5;132;01m}\u001b[39;00m\u001b[38;5;124m.fasta\u001b[39m\u001b[38;5;124m\"\u001b[39m, \u001b[38;5;124m\"\u001b[39m\u001b[38;5;124mw\u001b[39m\u001b[38;5;124m\"\u001b[39m) \u001b[38;5;28;01mas\u001b[39;00m f:\n\u001b[0;32m----> 3\u001b[0m         \u001b[43mSeqIO\u001b[49m\u001b[38;5;241;43m.\u001b[39;49m\u001b[43mwrite\u001b[49m\u001b[43m(\u001b[49m\u001b[43mdf\u001b[49m\u001b[43m,\u001b[49m\u001b[43m \u001b[49m\u001b[43mf\u001b[49m\u001b[43m,\u001b[49m\u001b[43m \u001b[49m\u001b[38;5;124;43m\"\u001b[39;49m\u001b[38;5;124;43mfasta\u001b[39;49m\u001b[38;5;124;43m\"\u001b[39;49m\u001b[43m)\u001b[49m\n",
      "File \u001b[0;32m~/.local/lib/python3.9/site-packages/Bio/SeqIO/__init__.py:526\u001b[0m, in \u001b[0;36mwrite\u001b[0;34m(sequences, handle, format)\u001b[0m\n\u001b[1;32m    524\u001b[0m \u001b[38;5;28;01mwith\u001b[39;00m as_handle(handle, \u001b[38;5;124m\"\u001b[39m\u001b[38;5;124mw\u001b[39m\u001b[38;5;124m\"\u001b[39m) \u001b[38;5;28;01mas\u001b[39;00m fp:\n\u001b[1;32m    525\u001b[0m     \u001b[38;5;28;01mfor\u001b[39;00m record \u001b[38;5;129;01min\u001b[39;00m sequences:\n\u001b[0;32m--> 526\u001b[0m         fp\u001b[38;5;241m.\u001b[39mwrite(\u001b[43mformat_function\u001b[49m\u001b[43m(\u001b[49m\u001b[43mrecord\u001b[49m\u001b[43m)\u001b[49m)\n\u001b[1;32m    527\u001b[0m         count \u001b[38;5;241m+\u001b[39m\u001b[38;5;241m=\u001b[39m \u001b[38;5;241m1\u001b[39m\n\u001b[1;32m    528\u001b[0m \u001b[38;5;28;01mreturn\u001b[39;00m count\n",
      "File \u001b[0;32m~/.local/lib/python3.9/site-packages/Bio/SeqIO/FastaIO.py:377\u001b[0m, in \u001b[0;36mas_fasta\u001b[0;34m(record)\u001b[0m\n\u001b[1;32m    371\u001b[0m \u001b[38;5;28;01mdef\u001b[39;00m \u001b[38;5;21mas_fasta\u001b[39m(record):\n\u001b[1;32m    372\u001b[0m \u001b[38;5;250m    \u001b[39m\u001b[38;5;124;03m\"\"\"Turn a SeqRecord into a FASTA formatted string.\u001b[39;00m\n\u001b[1;32m    373\u001b[0m \n\u001b[1;32m    374\u001b[0m \u001b[38;5;124;03m    This is used internally by the SeqRecord's .format(\"fasta\")\u001b[39;00m\n\u001b[1;32m    375\u001b[0m \u001b[38;5;124;03m    method and by the SeqIO.write(..., ..., \"fasta\") function.\u001b[39;00m\n\u001b[1;32m    376\u001b[0m \u001b[38;5;124;03m    \"\"\"\u001b[39;00m\n\u001b[0;32m--> 377\u001b[0m     \u001b[38;5;28mid\u001b[39m \u001b[38;5;241m=\u001b[39m _clean(\u001b[43mrecord\u001b[49m\u001b[38;5;241;43m.\u001b[39;49m\u001b[43mid\u001b[49m)\n\u001b[1;32m    378\u001b[0m     description \u001b[38;5;241m=\u001b[39m _clean(record\u001b[38;5;241m.\u001b[39mdescription)\n\u001b[1;32m    379\u001b[0m     \u001b[38;5;28;01mif\u001b[39;00m description \u001b[38;5;129;01mand\u001b[39;00m description\u001b[38;5;241m.\u001b[39msplit(\u001b[38;5;28;01mNone\u001b[39;00m, \u001b[38;5;241m1\u001b[39m)[\u001b[38;5;241m0\u001b[39m] \u001b[38;5;241m==\u001b[39m \u001b[38;5;28mid\u001b[39m:\n\u001b[1;32m    380\u001b[0m         \u001b[38;5;66;03m# The description includes the id at the start\u001b[39;00m\n",
      "\u001b[0;31mAttributeError\u001b[0m: 'str' object has no attribute 'id'"
     ]
    }
   ],
   "source": [
    "# for k, df in bio_dfs.items():\n",
    "#     with open(f\"output/{k}.fasta\", \"w\") as f:\n",
    "#         SeqIO.write(df, f, \"fasta\")"
   ]
  },
  {
   "cell_type": "code",
   "execution_count": null,
   "metadata": {},
   "outputs": [],
   "source": []
  }
 ],
 "metadata": {
  "kernelspec": {
   "display_name": "Python 3",
   "language": "python",
   "name": "python3"
  },
  "language_info": {
   "codemirror_mode": {
    "name": "ipython",
    "version": 3
   },
   "file_extension": ".py",
   "mimetype": "text/x-python",
   "name": "python",
   "nbconvert_exporter": "python",
   "pygments_lexer": "ipython3",
   "version": "3.9.2"
  }
 },
 "nbformat": 4,
 "nbformat_minor": 2
}
