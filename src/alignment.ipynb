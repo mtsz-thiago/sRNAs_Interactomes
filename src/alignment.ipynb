{
 "cells": [
  {
   "cell_type": "code",
   "execution_count": 3,
   "metadata": {},
   "outputs": [],
   "source": [
    "from Bio.Seq import Seq\n",
    "from Bio.SeqRecord import SeqRecord\n",
    "from Bio.Align import MultipleSeqAlignment\n",
    "\n",
    "a = SeqRecord(Seq(\"AAAACGT\"), id=\"Alpha\")\n",
    "\n",
    "b = SeqRecord(Seq(\"AAA-CGT\"), id=\"Beta\")\n",
    "\n",
    "c = SeqRecord(Seq(\"AAAAGGT\"), id=\"Gamma\")"
   ]
  },
  {
   "cell_type": "code",
   "execution_count": 12,
   "metadata": {},
   "outputs": [
    {
     "name": "stdout",
     "output_type": "stream",
     "text": [
      "Alignment 1 score: 6.0\n",
      "Alignment 2 score: 6.0\n",
      "Alignment 3 score: 6.0\n",
      "Alignment 4 score: 6.0\n",
      "Alignment 5 score: 6.0\n"
     ]
    },
    {
     "name": "stderr",
     "output_type": "stream",
     "text": [
      "/home/vscode/.local/lib/python3.9/site-packages/Bio/pairwise2.py:278: BiopythonDeprecationWarning: Bio.pairwise2 has been deprecated, and we intend to remove it in a future release of Biopython. As an alternative, please consider using Bio.Align.PairwiseAligner as a replacement, and contact the Biopython developers if you still need the Bio.pairwise2 module.\n",
      "  warnings.warn(\n"
     ]
    }
   ],
   "source": [
    "from Bio import pairwise2\n",
    "\n",
    "# Define your sequences\n",
    "seq1 = \"AAAACGT\"\n",
    "seq2 = \"AAA-CGT\"\n",
    "seq3 = \"AAAAGGT\"\n",
    "\n",
    "# Calculate alignment scores\n",
    "alignments = pairwise2.align.globalxx(seq1, seq2)\n",
    "scores = [alignment[2] for alignment in alignments]\n",
    "\n",
    "# Print the scores\n",
    "for i, score in enumerate(scores):\n",
    "    print(f\"Alignment {i+1} score: {score}\")\n"
   ]
  },
  {
   "cell_type": "code",
   "execution_count": 13,
   "metadata": {},
   "outputs": [
    {
     "data": {
      "text/plain": [
       "[Alignment(seqA='AAAA-CGT', seqB='-AAA-CGT', score=6.0, start=0, end=8),\n",
       " Alignment(seqA='AAAA-CGT', seqB='A-AA-CGT', score=6.0, start=0, end=8),\n",
       " Alignment(seqA='AAAA-CGT', seqB='AA-A-CGT', score=6.0, start=0, end=8),\n",
       " Alignment(seqA='AAAA-CGT', seqB='AAA--CGT', score=6.0, start=0, end=8),\n",
       " Alignment(seqA='AAAACGT', seqB='AAA-CGT', score=6.0, start=0, end=7)]"
      ]
     },
     "execution_count": 13,
     "metadata": {},
     "output_type": "execute_result"
    }
   ],
   "source": [
    "alignments"
   ]
  },
  {
   "cell_type": "code",
   "execution_count": 20,
   "metadata": {},
   "outputs": [],
   "source": [
    "import networkx as nx"
   ]
  },
  {
   "cell_type": "code",
   "execution_count": 42,
   "metadata": {
    "notebookRunGroups": {
     "groupValue": "1"
    }
   },
   "outputs": [],
   "source": [
    "G = nx.read_gml(\"/workspaces/sRNAs_Interactomes/output/interactome_graphs/EP-OD0.5.gml\")"
   ]
  },
  {
   "cell_type": "code",
   "execution_count": 73,
   "metadata": {},
   "outputs": [
    {
     "ename": "ModuleNotFoundError",
     "evalue": "No module named 'Bio.SubsMat'",
     "output_type": "error",
     "traceback": [
      "\u001b[0;31m---------------------------------------------------------------------------\u001b[0m",
      "\u001b[0;31mModuleNotFoundError\u001b[0m                       Traceback (most recent call last)",
      "Cell \u001b[0;32mIn[73], line 2\u001b[0m\n\u001b[1;32m      1\u001b[0m \u001b[38;5;28;01mfrom\u001b[39;00m \u001b[38;5;21;01mBio\u001b[39;00m \u001b[38;5;28;01mimport\u001b[39;00m pairwise2\n\u001b[0;32m----> 2\u001b[0m \u001b[38;5;28;01mfrom\u001b[39;00m \u001b[38;5;21;01mBio\u001b[39;00m\u001b[38;5;21;01m.\u001b[39;00m\u001b[38;5;21;01mSubsMat\u001b[39;00m \u001b[38;5;28;01mimport\u001b[39;00m MatrixInfo \u001b[38;5;28;01mas\u001b[39;00m matlist\n\u001b[1;32m      3\u001b[0m matrix \u001b[38;5;241m=\u001b[39m matlist\u001b[38;5;241m.\u001b[39mblosum62\n\u001b[1;32m      5\u001b[0m \u001b[38;5;28;01mdef\u001b[39;00m \u001b[38;5;21madd_alignmets_socres_to_edges\u001b[39m(graph):\n",
      "\u001b[0;31mModuleNotFoundError\u001b[0m: No module named 'Bio.SubsMat'"
     ]
    }
   ],
   "source": [
    "from Bio import pairwise2\n",
    "from Bio.Align import substitution_matrices\n",
    "\n",
    "substitution_matrix = substitution_matrices.load('BLOSUM62') \n",
    "\n",
    "def add_alignmets_socres_to_edges(graph):\n",
    "    for u, v, d in graph.edges(data=True):\n",
    "        seq1 = graph.nodes[u]['seq']\n",
    "        seq2 = graph.nodes[v]['seq']\n",
    "        print(u, v)\n",
    "        alignmentScore = pairwise2.align.globaldx(seq1, seq2, substitution_matrix, score_only=True)\n",
    "        d['alignmentScore'] = alignmentScore\n",
    "\n",
    "    return G"
   ]
  },
  {
   "cell_type": "code",
   "execution_count": 72,
   "metadata": {},
   "outputs": [
    {
     "name": "stdout",
     "output_type": "stream",
     "text": [
      "dc35ecc46f7548a6bf3c7f64069a715d 33ffff7327f04f71aeabc18e8903236e\n"
     ]
    },
    {
     "ename": "TypeError",
     "evalue": "localms takes exactly 6 argument (2 given)",
     "output_type": "error",
     "traceback": [
      "\u001b[0;31m---------------------------------------------------------------------------\u001b[0m",
      "\u001b[0;31mTypeError\u001b[0m                                 Traceback (most recent call last)",
      "Cell \u001b[0;32mIn[72], line 1\u001b[0m\n\u001b[0;32m----> 1\u001b[0m G2 \u001b[38;5;241m=\u001b[39m \u001b[43madd_alignmets_socres_to_edges\u001b[49m\u001b[43m(\u001b[49m\u001b[43mG\u001b[49m\u001b[43m)\u001b[49m\n",
      "Cell \u001b[0;32mIn[68], line 8\u001b[0m, in \u001b[0;36madd_alignmets_socres_to_edges\u001b[0;34m(graph)\u001b[0m\n\u001b[1;32m      6\u001b[0m     seq2 \u001b[38;5;241m=\u001b[39m graph\u001b[38;5;241m.\u001b[39mnodes[v][\u001b[38;5;124m'\u001b[39m\u001b[38;5;124mseq\u001b[39m\u001b[38;5;124m'\u001b[39m]\n\u001b[1;32m      7\u001b[0m     \u001b[38;5;28mprint\u001b[39m(u, v)\n\u001b[0;32m----> 8\u001b[0m     alignmentScore \u001b[38;5;241m=\u001b[39m \u001b[43mpairwise2\u001b[49m\u001b[38;5;241;43m.\u001b[39;49m\u001b[43malign\u001b[49m\u001b[38;5;241;43m.\u001b[39;49m\u001b[43mlocalms\u001b[49m\u001b[43m(\u001b[49m\u001b[43mseq1\u001b[49m\u001b[43m,\u001b[49m\u001b[43m \u001b[49m\u001b[43mseq2\u001b[49m\u001b[43m,\u001b[49m\u001b[43m \u001b[49m\u001b[43mscore_only\u001b[49m\u001b[38;5;241;43m=\u001b[39;49m\u001b[38;5;28;43;01mTrue\u001b[39;49;00m\u001b[43m)\u001b[49m\n\u001b[1;32m      9\u001b[0m     d[\u001b[38;5;124m'\u001b[39m\u001b[38;5;124malignmentScore\u001b[39m\u001b[38;5;124m'\u001b[39m] \u001b[38;5;241m=\u001b[39m alignmentScore\n\u001b[1;32m     11\u001b[0m \u001b[38;5;28;01mreturn\u001b[39;00m G\n",
      "File \u001b[0;32m~/.local/lib/python3.9/site-packages/Bio/pairwise2.py:501\u001b[0m, in \u001b[0;36malign.alignment_function.__call__\u001b[0;34m(self, *args, **keywds)\u001b[0m\n\u001b[1;32m    499\u001b[0m \u001b[38;5;28;01mdef\u001b[39;00m \u001b[38;5;21m__call__\u001b[39m(\u001b[38;5;28mself\u001b[39m, \u001b[38;5;241m*\u001b[39margs, \u001b[38;5;241m*\u001b[39m\u001b[38;5;241m*\u001b[39mkeywds):\n\u001b[1;32m    500\u001b[0m \u001b[38;5;250m    \u001b[39m\u001b[38;5;124;03m\"\"\"Call the alignment instance already created.\"\"\"\u001b[39;00m\n\u001b[0;32m--> 501\u001b[0m     keywds \u001b[38;5;241m=\u001b[39m \u001b[38;5;28;43mself\u001b[39;49m\u001b[38;5;241;43m.\u001b[39;49m\u001b[43mdecode\u001b[49m\u001b[43m(\u001b[49m\u001b[38;5;241;43m*\u001b[39;49m\u001b[43margs\u001b[49m\u001b[43m,\u001b[49m\u001b[43m \u001b[49m\u001b[38;5;241;43m*\u001b[39;49m\u001b[38;5;241;43m*\u001b[39;49m\u001b[43mkeywds\u001b[49m\u001b[43m)\u001b[49m\n\u001b[1;32m    502\u001b[0m     \u001b[38;5;28;01mreturn\u001b[39;00m _align(\u001b[38;5;241m*\u001b[39m\u001b[38;5;241m*\u001b[39mkeywds)\n",
      "File \u001b[0;32m~/.local/lib/python3.9/site-packages/Bio/pairwise2.py:432\u001b[0m, in \u001b[0;36malign.alignment_function.decode\u001b[0;34m(self, *args, **keywds)\u001b[0m\n\u001b[1;32m    429\u001b[0m args \u001b[38;5;241m=\u001b[39m \u001b[38;5;28mtuple\u001b[39m(arg \u001b[38;5;28;01mfor\u001b[39;00m arg \u001b[38;5;129;01min\u001b[39;00m args \u001b[38;5;28;01mif\u001b[39;00m arg \u001b[38;5;129;01mis\u001b[39;00m \u001b[38;5;129;01mnot\u001b[39;00m \u001b[38;5;28;01mNone\u001b[39;00m)\n\u001b[1;32m    431\u001b[0m \u001b[38;5;28;01mif\u001b[39;00m \u001b[38;5;28mlen\u001b[39m(args) \u001b[38;5;241m!=\u001b[39m \u001b[38;5;28mlen\u001b[39m(\u001b[38;5;28mself\u001b[39m\u001b[38;5;241m.\u001b[39mparam_names):\n\u001b[0;32m--> 432\u001b[0m     \u001b[38;5;28;01mraise\u001b[39;00m \u001b[38;5;167;01mTypeError\u001b[39;00m(\n\u001b[1;32m    433\u001b[0m         \u001b[38;5;124m\"\u001b[39m\u001b[38;5;132;01m%s\u001b[39;00m\u001b[38;5;124m takes exactly \u001b[39m\u001b[38;5;132;01m%d\u001b[39;00m\u001b[38;5;124m argument (\u001b[39m\u001b[38;5;132;01m%d\u001b[39;00m\u001b[38;5;124m given)\u001b[39m\u001b[38;5;124m\"\u001b[39m\n\u001b[1;32m    434\u001b[0m         \u001b[38;5;241m%\u001b[39m (\u001b[38;5;28mself\u001b[39m\u001b[38;5;241m.\u001b[39mfunction_name, \u001b[38;5;28mlen\u001b[39m(\u001b[38;5;28mself\u001b[39m\u001b[38;5;241m.\u001b[39mparam_names), \u001b[38;5;28mlen\u001b[39m(args))\n\u001b[1;32m    435\u001b[0m     )\n\u001b[1;32m    437\u001b[0m i \u001b[38;5;241m=\u001b[39m \u001b[38;5;241m0\u001b[39m\n\u001b[1;32m    438\u001b[0m \u001b[38;5;28;01mwhile\u001b[39;00m i \u001b[38;5;241m<\u001b[39m \u001b[38;5;28mlen\u001b[39m(\u001b[38;5;28mself\u001b[39m\u001b[38;5;241m.\u001b[39mparam_names):\n",
      "\u001b[0;31mTypeError\u001b[0m: localms takes exactly 6 argument (2 given)"
     ]
    }
   ],
   "source": [
    "G2 = add_alignmets_socres_to_edges(G)"
   ]
  },
  {
   "cell_type": "code",
   "execution_count": 67,
   "metadata": {},
   "outputs": [
    {
     "data": {
      "text/plain": [
       "Counter({58.0: 436})"
      ]
     },
     "execution_count": 67,
     "metadata": {},
     "output_type": "execute_result"
    }
   ],
   "source": [
    "from collections import Counter\n",
    "\n",
    "# FILEPATH: /workspaces/sRNAs_Interactomes/src/alignment.ipynb\n",
    "\n",
    "Counter([d['alignmentScore'] for u, v, d in G2.edges(data=True)])"
   ]
  },
  {
   "cell_type": "code",
   "execution_count": 38,
   "metadata": {},
   "outputs": [],
   "source": [
    "nx.write_gml(G2, \"bla.gml\")"
   ]
  },
  {
   "cell_type": "code",
   "execution_count": null,
   "metadata": {},
   "outputs": [],
   "source": []
  }
 ],
 "metadata": {
  "kernelspec": {
   "display_name": "Python 3",
   "language": "python",
   "name": "python3"
  },
  "language_info": {
   "codemirror_mode": {
    "name": "ipython",
    "version": 3
   },
   "file_extension": ".py",
   "mimetype": "text/x-python",
   "name": "python",
   "nbconvert_exporter": "python",
   "pygments_lexer": "ipython3",
   "version": "3.9.2"
  }
 },
 "nbformat": 4,
 "nbformat_minor": 2
}
