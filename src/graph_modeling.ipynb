{
 "cells": [
  {
   "cell_type": "code",
   "execution_count": 2,
   "metadata": {},
   "outputs": [
    {
     "ename": "ModuleNotFoundError",
     "evalue": "No module named 'sup_data_to_7fasta'",
     "output_type": "error",
     "traceback": [
      "\u001b[0;31m---------------------------------------------------------------------------\u001b[0m",
      "\u001b[0;31mModuleNotFoundError\u001b[0m                       Traceback (most recent call last)",
      "Cell \u001b[0;32mIn[2], line 12\u001b[0m\n\u001b[1;32m      8\u001b[0m \u001b[38;5;28;01mfrom\u001b[39;00m \u001b[38;5;21;01mtorch_geometric\u001b[39;00m\u001b[38;5;21;01m.\u001b[39;00m\u001b[38;5;21;01mdatasets\u001b[39;00m \u001b[38;5;28;01mimport\u001b[39;00m TUDataset\n\u001b[1;32m      9\u001b[0m \u001b[38;5;28;01mimport\u001b[39;00m \u001b[38;5;21;01mtorch_geometric\u001b[39;00m\u001b[38;5;21;01m.\u001b[39;00m\u001b[38;5;21;01mutils\u001b[39;00m \u001b[38;5;28;01mas\u001b[39;00m \u001b[38;5;21;01mtg_utils\u001b[39;00m\n\u001b[0;32m---> 12\u001b[0m \u001b[38;5;28;01mfrom\u001b[39;00m \u001b[38;5;21;01msup_data_to_7fasta\u001b[39;00m \u001b[38;5;28;01mimport\u001b[39;00m load_xlsx\n",
      "\u001b[0;31mModuleNotFoundError\u001b[0m: No module named 'sup_data_to_7fasta'"
     ]
    }
   ],
   "source": [
    "import sys\n",
    "sys.path.insert(0,'../src')\n",
    "import pandas as pd\n",
    "import numpy as np\n",
    "import networkx as nx\n",
    "import matplotlib.pyplot as plt\n",
    "\n",
    "from torch_geometric.datasets import TUDataset\n",
    "import torch_geometric.utils as tg_utils\n",
    "\n",
    "\n",
    "from sup_data_to_fasta import load_xlsx"
   ]
  },
  {
   "cell_type": "code",
   "execution_count": null,
   "metadata": {},
   "outputs": [],
   "source": [
    "interactome_data_df_dict = load_xlsx('data/Liu_sup5_data.xlsx')"
   ]
  },
  {
   "cell_type": "markdown",
   "metadata": {},
   "source": [
    "## Data Input\n",
    "\n",
    "In order to use GNN models, we should convert the interactome data to a Tensor representing the adjacency matrix and branch and node features:\n",
    "\n",
    "### Node Features\n",
    "\n",
    "* Nucleotide Sequence k-mars frequency: as is common, we can use an approach similar to bag of words for text processing, where we can count words (kmers of a given size)\n",
    "\n",
    "### Branch features\n",
    "\n",
    "* Number of interactions: number of chimeras supporting interactions as described by Liu et al."
   ]
  },
  {
   "cell_type": "code",
   "execution_count": null,
   "metadata": {},
   "outputs": [],
   "source": [
    "interactome_data_df = interactome_data_df_dict['EP-OD0.5']"
   ]
  },
  {
   "cell_type": "code",
   "execution_count": null,
   "metadata": {},
   "outputs": [],
   "source": [
    "def get_graph_from_df(df):\n",
    "    graph = nx.Graph()\n",
    "    for i, row in df.iterrows():\n",
    "        graph.add_edge(row['RNA1 name'], row['RNA2 name'], interactions=row['Number of interactions'])\n",
    "        graph.add_edge(row['RNA2 name'], row['RNA1 name'], interactions=row['Number of interactions'])  # Add the reverse edge\n",
    "        \n",
    "        # Add 'RNA1 seq' and 'RNA2 seq' as properties to graph node\n",
    "        graph.nodes[row['RNA1 name']]['seq_len'] = len(row['RNA1 seq'])\n",
    "        graph.nodes[row['RNA2 name']]['seq_len'] = len(row['RNA2 seq'])\n",
    "        \n",
    "    return graph"
   ]
  },
  {
   "cell_type": "code",
   "execution_count": null,
   "metadata": {},
   "outputs": [],
   "source": [
    "graph = get_graph_from_df(interactome_data_df)"
   ]
  },
  {
   "cell_type": "code",
   "execution_count": null,
   "metadata": {
    "notebookRunGroups": {
     "groupValue": "2"
    }
   },
   "outputs": [],
   "source": [
    "def plot_interactome_graph(graph):\n",
    "\n",
    "    # Set the figure size\n",
    "    plt.figure(figsize=(8, 6))\n",
    "\n",
    "    # Customize the node color, size, and shape\n",
    "    node_color = 'skyblue'\n",
    "    node_size = 20\n",
    "    node_shape = 'o'\n",
    "\n",
    "    # Customize the edge color and width\n",
    "    edge_color = 'gray'\n",
    "    edge_width = 0.5\n",
    "\n",
    "    # Draw the graph with the customized parameters\n",
    "    nx.draw(graph, with_labels=False, node_color=node_color, node_size=node_size, node_shape=node_shape,\n",
    "        edge_color=edge_color, width=edge_width)\n",
    "\n",
    "    # Add node properties as labels\n",
    "    node_labels = {node: f\"seq_len: {data['seq_len']}\" for node, data in graph.nodes(data=True)}\n",
    "    nx.draw_networkx_labels(graph, pos=nx.spring_layout(graph), labels=node_labels)\n",
    "\n",
    "    # Add edge properties as labels\n",
    "    edge_labels = nx.get_edge_attributes(graph, 'interactions')\n",
    "    nx.draw_networkx_edge_labels(graph, pos=nx.spring_layout(graph), edge_labels=edge_labels)\n",
    "\n",
    "    # Add a title to the plot\n",
    "    plt.title('Interactome Graph')\n",
    "\n",
    "    # Show the plot\n",
    "    plt.show()\n"
   ]
  },
  {
   "cell_type": "code",
   "execution_count": null,
   "metadata": {},
   "outputs": [],
   "source": [
    "plot_interactome_graph(graph)"
   ]
  },
  {
   "cell_type": "code",
   "execution_count": null,
   "metadata": {},
   "outputs": [],
   "source": [
    "rna1_eq_rna2 = interactome_data_df[interactome_data_df[\"RNA1 name\"] == interactome_data_df[\"RNA2 name\"]]"
   ]
  },
  {
   "cell_type": "code",
   "execution_count": null,
   "metadata": {},
   "outputs": [],
   "source": [
    "rna1 = rna1_eq_rna2[\"RNA1 seq\"].iloc[0]\n",
    "rna2 = rna1_eq_rna2[\"RNA2 seq\"].iloc[0]"
   ]
  },
  {
   "cell_type": "code",
   "execution_count": null,
   "metadata": {},
   "outputs": [],
   "source": [
    "len(rna2)"
   ]
  },
  {
   "cell_type": "code",
   "execution_count": null,
   "metadata": {},
   "outputs": [],
   "source": [
    "rna2"
   ]
  },
  {
   "cell_type": "code",
   "execution_count": null,
   "metadata": {},
   "outputs": [],
   "source": [
    "rna_aligned_range1 = np.array([4394212, 4394332])\n",
    "rna_aligned_range2 = np.array([4393018, 4393111])"
   ]
  },
  {
   "cell_type": "code",
   "execution_count": null,
   "metadata": {},
   "outputs": [],
   "source": [
    "rna1_eq_rna2"
   ]
  },
  {
   "cell_type": "markdown",
   "metadata": {},
   "source": []
  }
 ],
 "metadata": {
  "kernelspec": {
   "display_name": "Python 3",
   "language": "python",
   "name": "python3"
  },
  "language_info": {
   "codemirror_mode": {
    "name": "ipython",
    "version": 3
   },
   "file_extension": ".py",
   "mimetype": "text/x-python",
   "name": "python",
   "nbconvert_exporter": "python",
   "pygments_lexer": "ipython3",
   "version": "3.9.2"
  }
 },
 "nbformat": 4,
 "nbformat_minor": 2
}
