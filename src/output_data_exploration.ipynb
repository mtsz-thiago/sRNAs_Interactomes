{
 "cells": [
  {
   "cell_type": "code",
   "execution_count": 1,
   "metadata": {},
   "outputs": [],
   "source": [
    "import pandas as pd\n",
    "from pathlib import Path\n",
    "from Bio import AlignIO\n",
    "from Bio import SeqIO\n",
    "from Bio.Seq import Seq\n",
    "from Bio.SeqRecord import SeqRecord\n",
    "from Bio.SeqFeature import SeqFeature, FeatureLocation\n",
    "from Bio.Blast import NCBIWWW, NCBIXML\n",
    "from matplotlib import pyplot as plt\n",
    "import numpy as np\n",
    "import seaborn as sns\n",
    "import re\n",
    "\n",
    "from sup_data_to_fasta import load_xlsx, transform_raw_dfs_to_queries\n",
    "\n",
    "sup5_file_path = Path(\"../data/Liu_sup5_data.xlsx\")"
   ]
  },
  {
   "cell_type": "markdown",
   "metadata": {},
   "source": [
    "# Análise Exploratória dos Dados Suplementares 5\n",
    "\n",
    "## Sobre\n",
    "\n",
    "Este notebook contém uma análise exploratória dos dados fornecidos por Liu, et al. No [suplemento 5](https://www.nature.com/articles/s41467-023-43632-1#additional-information\n",
    ") com o objetivo de averiguar os tratamentos executados no artigo\n",
    "\n",
    "### Objetivo\n",
    "\n",
    "* Verificar a origem das tags dos pares sRNA/mRNA dos dados suplementares.\n",
    "* Ganhar mais insight sobre as interações medidas.\n",
    "\n"
   ]
  },
  {
   "cell_type": "code",
   "execution_count": 2,
   "metadata": {},
   "outputs": [],
   "source": [
    "import pandas as pd\n",
    "from pathlib import Path\n",
    "\n",
    "def load_alignments():\n",
    "    output_dir = Path(\"/workspaces/sRNAs_Interactomes/output\")\n",
    "    alignments_files = output_dir.glob(\"*alignments_results.tsv\")\n",
    "    \n",
    "    exp_word_size_list = []\n",
    "\n",
    "    alignments_df_list = []\n",
    "    for file_path in alignments_files:\n",
    "        prefix = file_path.stem.split(\"_\")[0]\n",
    "        df = pd.read_csv(file_path, sep='\\t')\n",
    "        word_sz = prefix.split(\"w\")[1]\n",
    "        experiment = prefix.split(\"-\")[0]\n",
    "        exp_word_size_list.append((experiment, word_sz))\n",
    "        df[\"experiment\"] = experiment\n",
    "        df[\"word_sz\"] = word_sz\n",
    "        alignments_df_list.append(df)\n",
    "    \n",
    "    alignments_dict = {(exp, word_sz): df for (exp, word_sz), df in zip(exp_word_size_list, alignments_df_list)}\n",
    "    return alignments_dict, exp_word_size_list\n"
   ]
  },
  {
   "cell_type": "code",
   "execution_count": 3,
   "metadata": {},
   "outputs": [],
   "source": [
    "alignments_dict, exp_word_size_list = load_alignments()"
   ]
  },
  {
   "cell_type": "code",
   "execution_count": 4,
   "metadata": {},
   "outputs": [],
   "source": [
    "def load_queries():\n",
    "    sup5_file_path = Path(\"/workspaces/sRNAs_Interactomes/data/Liu_sup5_data.xlsx\")\n",
    "    dict = load_xlsx(sup5_file_path)\n",
    "    queries_dict = transform_raw_dfs_to_queries(dict)\n",
    "    queries_dict = {k.split('-')[0]:v for k,v in queries_dict.items()}\n",
    "    return queries_dict"
   ]
  },
  {
   "cell_type": "code",
   "execution_count": 5,
   "metadata": {},
   "outputs": [],
   "source": [
    "queries_dict = load_queries()"
   ]
  },
  {
   "cell_type": "code",
   "execution_count": 6,
   "metadata": {},
   "outputs": [
    {
     "name": "stdout",
     "output_type": "stream",
     "text": [
      "#queries 420\n",
      "#alignments 6576\n"
     ]
    }
   ],
   "source": [
    "queries_df = queries_dict['EP']\n",
    "alignments_df = alignments_dict[('EP', '11')]\n",
    "print(f\"#queries {len(queries_df)}\")\n",
    "print(f\"#alignments {len(alignments_df)}\")"
   ]
  },
  {
   "cell_type": "code",
   "execution_count": 7,
   "metadata": {},
   "outputs": [
    {
     "data": {
      "text/html": [
       "<div>\n",
       "<style scoped>\n",
       "    .dataframe tbody tr th:only-of-type {\n",
       "        vertical-align: middle;\n",
       "    }\n",
       "\n",
       "    .dataframe tbody tr th {\n",
       "        vertical-align: top;\n",
       "    }\n",
       "\n",
       "    .dataframe thead th {\n",
       "        text-align: right;\n",
       "    }\n",
       "</style>\n",
       "<table border=\"1\" class=\"dataframe\">\n",
       "  <thead>\n",
       "    <tr style=\"text-align: right;\">\n",
       "      <th></th>\n",
       "      <th>qseqid</th>\n",
       "      <th>qgi</th>\n",
       "      <th>qacc</th>\n",
       "      <th>qaccver</th>\n",
       "      <th>qlen</th>\n",
       "      <th>sseqid</th>\n",
       "      <th>sallseqid</th>\n",
       "      <th>sgi</th>\n",
       "      <th>sallgi</th>\n",
       "      <th>sacc</th>\n",
       "      <th>...</th>\n",
       "      <th>scomnames</th>\n",
       "      <th>sblastnames</th>\n",
       "      <th>sskingdoms</th>\n",
       "      <th>stitle</th>\n",
       "      <th>salltitles</th>\n",
       "      <th>sstrand</th>\n",
       "      <th>qcovs</th>\n",
       "      <th>qcovhsp</th>\n",
       "      <th>experiment</th>\n",
       "      <th>word_sz</th>\n",
       "    </tr>\n",
       "  </thead>\n",
       "  <tbody>\n",
       "    <tr>\n",
       "      <th>0</th>\n",
       "      <td>SL1344_rRNA0009(SL1344_rRNA0009).AS</td>\n",
       "      <td>0</td>\n",
       "      <td>SL1344_rRNA0009(SL1344_rRNA0009).AS</td>\n",
       "      <td>SL1344_rRNA0009(SL1344_rRNA0009).AS</td>\n",
       "      <td>44</td>\n",
       "      <td>NC_016810.1</td>\n",
       "      <td>NC_016810.1</td>\n",
       "      <td>0</td>\n",
       "      <td>0</td>\n",
       "      <td>NC_016810.1</td>\n",
       "      <td>...</td>\n",
       "      <td>NaN</td>\n",
       "      <td>NaN</td>\n",
       "      <td>NaN</td>\n",
       "      <td>NC_016810.1 Salmonella enterica subsp. enteric...</td>\n",
       "      <td>NC_016810.1 Salmonella enterica subsp. enteric...</td>\n",
       "      <td>minus</td>\n",
       "      <td>100</td>\n",
       "      <td>100</td>\n",
       "      <td>EP</td>\n",
       "      <td>11</td>\n",
       "    </tr>\n",
       "    <tr>\n",
       "      <th>1</th>\n",
       "      <td>SL1344_rRNA0009(SL1344_rRNA0009).AS</td>\n",
       "      <td>0</td>\n",
       "      <td>SL1344_rRNA0009(SL1344_rRNA0009).AS</td>\n",
       "      <td>SL1344_rRNA0009(SL1344_rRNA0009).AS</td>\n",
       "      <td>44</td>\n",
       "      <td>NC_016810.1</td>\n",
       "      <td>NC_016810.1</td>\n",
       "      <td>0</td>\n",
       "      <td>0</td>\n",
       "      <td>NC_016810.1</td>\n",
       "      <td>...</td>\n",
       "      <td>NaN</td>\n",
       "      <td>NaN</td>\n",
       "      <td>NaN</td>\n",
       "      <td>NC_016810.1 Salmonella enterica subsp. enteric...</td>\n",
       "      <td>NC_016810.1 Salmonella enterica subsp. enteric...</td>\n",
       "      <td>plus</td>\n",
       "      <td>100</td>\n",
       "      <td>100</td>\n",
       "      <td>EP</td>\n",
       "      <td>11</td>\n",
       "    </tr>\n",
       "    <tr>\n",
       "      <th>2</th>\n",
       "      <td>SL1344_rRNA0009(SL1344_rRNA0009).AS</td>\n",
       "      <td>0</td>\n",
       "      <td>SL1344_rRNA0009(SL1344_rRNA0009).AS</td>\n",
       "      <td>SL1344_rRNA0009(SL1344_rRNA0009).AS</td>\n",
       "      <td>44</td>\n",
       "      <td>NC_016810.1</td>\n",
       "      <td>NC_016810.1</td>\n",
       "      <td>0</td>\n",
       "      <td>0</td>\n",
       "      <td>NC_016810.1</td>\n",
       "      <td>...</td>\n",
       "      <td>NaN</td>\n",
       "      <td>NaN</td>\n",
       "      <td>NaN</td>\n",
       "      <td>NC_016810.1 Salmonella enterica subsp. enteric...</td>\n",
       "      <td>NC_016810.1 Salmonella enterica subsp. enteric...</td>\n",
       "      <td>plus</td>\n",
       "      <td>100</td>\n",
       "      <td>100</td>\n",
       "      <td>EP</td>\n",
       "      <td>11</td>\n",
       "    </tr>\n",
       "    <tr>\n",
       "      <th>3</th>\n",
       "      <td>SL1344_rRNA0009(SL1344_rRNA0009).AS</td>\n",
       "      <td>0</td>\n",
       "      <td>SL1344_rRNA0009(SL1344_rRNA0009).AS</td>\n",
       "      <td>SL1344_rRNA0009(SL1344_rRNA0009).AS</td>\n",
       "      <td>44</td>\n",
       "      <td>NC_016810.1</td>\n",
       "      <td>NC_016810.1</td>\n",
       "      <td>0</td>\n",
       "      <td>0</td>\n",
       "      <td>NC_016810.1</td>\n",
       "      <td>...</td>\n",
       "      <td>NaN</td>\n",
       "      <td>NaN</td>\n",
       "      <td>NaN</td>\n",
       "      <td>NC_016810.1 Salmonella enterica subsp. enteric...</td>\n",
       "      <td>NC_016810.1 Salmonella enterica subsp. enteric...</td>\n",
       "      <td>minus</td>\n",
       "      <td>100</td>\n",
       "      <td>100</td>\n",
       "      <td>EP</td>\n",
       "      <td>11</td>\n",
       "    </tr>\n",
       "    <tr>\n",
       "      <th>4</th>\n",
       "      <td>SL1344_rRNA0009(SL1344_rRNA0009).AS</td>\n",
       "      <td>0</td>\n",
       "      <td>SL1344_rRNA0009(SL1344_rRNA0009).AS</td>\n",
       "      <td>SL1344_rRNA0009(SL1344_rRNA0009).AS</td>\n",
       "      <td>44</td>\n",
       "      <td>NC_016810.1</td>\n",
       "      <td>NC_016810.1</td>\n",
       "      <td>0</td>\n",
       "      <td>0</td>\n",
       "      <td>NC_016810.1</td>\n",
       "      <td>...</td>\n",
       "      <td>NaN</td>\n",
       "      <td>NaN</td>\n",
       "      <td>NaN</td>\n",
       "      <td>NC_016810.1 Salmonella enterica subsp. enteric...</td>\n",
       "      <td>NC_016810.1 Salmonella enterica subsp. enteric...</td>\n",
       "      <td>minus</td>\n",
       "      <td>100</td>\n",
       "      <td>100</td>\n",
       "      <td>EP</td>\n",
       "      <td>11</td>\n",
       "    </tr>\n",
       "  </tbody>\n",
       "</table>\n",
       "<p>5 rows × 46 columns</p>\n",
       "</div>"
      ],
      "text/plain": [
       "                                qseqid  qgi  \\\n",
       "0  SL1344_rRNA0009(SL1344_rRNA0009).AS    0   \n",
       "1  SL1344_rRNA0009(SL1344_rRNA0009).AS    0   \n",
       "2  SL1344_rRNA0009(SL1344_rRNA0009).AS    0   \n",
       "3  SL1344_rRNA0009(SL1344_rRNA0009).AS    0   \n",
       "4  SL1344_rRNA0009(SL1344_rRNA0009).AS    0   \n",
       "\n",
       "                                  qacc                              qaccver  \\\n",
       "0  SL1344_rRNA0009(SL1344_rRNA0009).AS  SL1344_rRNA0009(SL1344_rRNA0009).AS   \n",
       "1  SL1344_rRNA0009(SL1344_rRNA0009).AS  SL1344_rRNA0009(SL1344_rRNA0009).AS   \n",
       "2  SL1344_rRNA0009(SL1344_rRNA0009).AS  SL1344_rRNA0009(SL1344_rRNA0009).AS   \n",
       "3  SL1344_rRNA0009(SL1344_rRNA0009).AS  SL1344_rRNA0009(SL1344_rRNA0009).AS   \n",
       "4  SL1344_rRNA0009(SL1344_rRNA0009).AS  SL1344_rRNA0009(SL1344_rRNA0009).AS   \n",
       "\n",
       "   qlen       sseqid    sallseqid  sgi  sallgi         sacc  ... scomnames  \\\n",
       "0    44  NC_016810.1  NC_016810.1    0       0  NC_016810.1  ...       NaN   \n",
       "1    44  NC_016810.1  NC_016810.1    0       0  NC_016810.1  ...       NaN   \n",
       "2    44  NC_016810.1  NC_016810.1    0       0  NC_016810.1  ...       NaN   \n",
       "3    44  NC_016810.1  NC_016810.1    0       0  NC_016810.1  ...       NaN   \n",
       "4    44  NC_016810.1  NC_016810.1    0       0  NC_016810.1  ...       NaN   \n",
       "\n",
       "  sblastnames  sskingdoms                                             stitle  \\\n",
       "0         NaN         NaN  NC_016810.1 Salmonella enterica subsp. enteric...   \n",
       "1         NaN         NaN  NC_016810.1 Salmonella enterica subsp. enteric...   \n",
       "2         NaN         NaN  NC_016810.1 Salmonella enterica subsp. enteric...   \n",
       "3         NaN         NaN  NC_016810.1 Salmonella enterica subsp. enteric...   \n",
       "4         NaN         NaN  NC_016810.1 Salmonella enterica subsp. enteric...   \n",
       "\n",
       "                                          salltitles  sstrand  qcovs qcovhsp  \\\n",
       "0  NC_016810.1 Salmonella enterica subsp. enteric...    minus    100     100   \n",
       "1  NC_016810.1 Salmonella enterica subsp. enteric...     plus    100     100   \n",
       "2  NC_016810.1 Salmonella enterica subsp. enteric...     plus    100     100   \n",
       "3  NC_016810.1 Salmonella enterica subsp. enteric...    minus    100     100   \n",
       "4  NC_016810.1 Salmonella enterica subsp. enteric...    minus    100     100   \n",
       "\n",
       "  experiment  word_sz  \n",
       "0         EP       11  \n",
       "1         EP       11  \n",
       "2         EP       11  \n",
       "3         EP       11  \n",
       "4         EP       11  \n",
       "\n",
       "[5 rows x 46 columns]"
      ]
     },
     "execution_count": 7,
     "metadata": {},
     "output_type": "execute_result"
    }
   ],
   "source": [
    "alignments_df.head()"
   ]
  },
  {
   "cell_type": "code",
   "execution_count": 8,
   "metadata": {},
   "outputs": [
    {
     "data": {
      "text/plain": [
       "Index(['qseqid', 'qgi', 'qacc', 'qaccver', 'qlen', 'sseqid', 'sallseqid',\n",
       "       'sgi', 'sallgi', 'sacc', 'saccver', 'sallacc', 'slen', 'qstart', 'qend',\n",
       "       'sstart', 'send', 'qseq', 'sseq', 'evalue', 'bitscore', 'score',\n",
       "       'length', 'pident', 'nident', 'mismatch', 'positive', 'gapopen', 'gaps',\n",
       "       'ppos', 'frames', 'qframe', 'sframe', 'btop', 'staxids', 'sscinames',\n",
       "       'scomnames', 'sblastnames', 'sskingdoms', 'stitle', 'salltitles',\n",
       "       'sstrand', 'qcovs', 'qcovhsp', 'experiment', 'word_sz'],\n",
       "      dtype='object')"
      ]
     },
     "execution_count": 8,
     "metadata": {},
     "output_type": "execute_result"
    }
   ],
   "source": [
    "alignments_df.columns"
   ]
  },
  {
   "cell_type": "code",
   "execution_count": 9,
   "metadata": {},
   "outputs": [],
   "source": [
    "def join_dfs(queries_df, alignments_df):\n",
    "    joined_df = pd.merge(queries_df, alignments_df, left_on='name', right_on='qseqid', how='left', suffixes=('_query', '_alignment'))\n",
    "    return joined_df"
   ]
  },
  {
   "cell_type": "code",
   "execution_count": 10,
   "metadata": {},
   "outputs": [],
   "source": [
    "aligned_queries_dict = {}\n",
    "for (exp, word_sz) in exp_word_size_list:\n",
    "    queries_df = queries_dict[exp]\n",
    "    alignments_df = alignments_dict[(exp, word_sz)]\n",
    "    joined_df = join_dfs(queries_df, alignments_df)\n",
    "    aligned_queries_dict[(exp, word_sz)] = joined_df"
   ]
  },
  {
   "cell_type": "code",
   "execution_count": 17,
   "metadata": {},
   "outputs": [
    {
     "name": "stdout",
     "output_type": "stream",
     "text": [
      "Number of queries in EP experiment not aligned for word_size=10: 0\n",
      "Number of queries in EP experiment not aligned for word_size=11: 0\n",
      "Number of queries in EP experiment not aligned for word_size=15: 2\n",
      "Number of queries in EP experiment not aligned for word_size=4: 0\n",
      "Number of queries in EP experiment not aligned for word_size=7: 0\n",
      "Number of queries in EP experiment not aligned for word_size=8: 0\n",
      "Number of queries in EP experiment not aligned for word_size=9: 0\n",
      "Number of queries in ESP experiment not aligned for word_size=10: 0\n",
      "Number of queries in ESP experiment not aligned for word_size=11: 0\n",
      "Number of queries in ESP experiment not aligned for word_size=15: 2\n",
      "Number of queries in ESP experiment not aligned for word_size=4: 0\n",
      "Number of queries in ESP experiment not aligned for word_size=7: 0\n",
      "Number of queries in ESP experiment not aligned for word_size=8: 0\n",
      "Number of queries in ESP experiment not aligned for word_size=9: 0\n",
      "Number of queries in SP experiment not aligned for word_size=10: 1\n",
      "Number of queries in SP experiment not aligned for word_size=11: 1\n",
      "Number of queries in SP experiment not aligned for word_size=15: 3\n",
      "Number of queries in SP experiment not aligned for word_size=4: 1\n",
      "Number of queries in SP experiment not aligned for word_size=7: 1\n",
      "Number of queries in SP experiment not aligned for word_size=8: 1\n",
      "Number of queries in SP experiment not aligned for word_size=9: 1\n"
     ]
    }
   ],
   "source": [
    "not_aligned_dict = {}\n",
    "\n",
    "for (exp, word_sz), df in sorted(aligned_queries_dict.items()):\n",
    "    non_aligned_queries = df[df['qseqid'].isnull()]\n",
    "    \n",
    "    print(f\"Number of queries in {exp} experiment not aligned for word_size={word_sz}: {len(non_aligned_queries)}\")\n",
    "    if len(non_aligned_queries):\n",
    "        not_aligned_dict[(exp, word_sz)] = non_aligned_queries['name'].tolist()\n",
    "        # print(f\"Queries not aligned in {exp} experiment for word_size={word_sz}: {non_aligned_queries['name'].tolist()}\")\n"
   ]
  },
  {
   "cell_type": "code",
   "execution_count": 16,
   "metadata": {},
   "outputs": [
    {
     "name": "stdout",
     "output_type": "stream",
     "text": [
      "Queries not aligned in EP experiment for word_size=15: ['SL1344_1792(SL1344_1792).SL1344_1791(SL1344_1791).IGR', 'rfbX(SL1344_2065)']\n",
      "Queries not aligned in ESP experiment for word_size=15: ['cspE(SL1344_0617)', 'folA(SL1344_0088)']\n",
      "Queries not aligned in SP experiment for word_size=10: ['ibsC(SL1344_3172A ).SL1344_3172(SL1344_3172).IGR']\n",
      "Queries not aligned in SP experiment for word_size=11: ['ibsC(SL1344_3172A ).SL1344_3172(SL1344_3172).IGR']\n",
      "Queries not aligned in SP experiment for word_size=15: ['cspE(SL1344_0617)', 'folA(SL1344_0088)', 'ibsC(SL1344_3172A ).SL1344_3172(SL1344_3172).IGR']\n",
      "Queries not aligned in SP experiment for word_size=4: ['ibsC(SL1344_3172A ).SL1344_3172(SL1344_3172).IGR']\n",
      "Queries not aligned in SP experiment for word_size=7: ['ibsC(SL1344_3172A ).SL1344_3172(SL1344_3172).IGR']\n",
      "Queries not aligned in SP experiment for word_size=8: ['ibsC(SL1344_3172A ).SL1344_3172(SL1344_3172).IGR']\n",
      "Queries not aligned in SP experiment for word_size=9: ['ibsC(SL1344_3172A ).SL1344_3172(SL1344_3172).IGR']\n"
     ]
    }
   ],
   "source": [
    "for (exp, word_sz), not_aligned in sorted(not_aligned_dict.items()):\n",
    "    print(f\"Queries not aligned in {exp} experiment for word_size={word_sz}: {not_aligned}\")"
   ]
  },
  {
   "cell_type": "code",
   "execution_count": null,
   "metadata": {},
   "outputs": [],
   "source": []
  }
 ],
 "metadata": {
  "kernelspec": {
   "display_name": "Python 3",
   "language": "python",
   "name": "python3"
  },
  "language_info": {
   "codemirror_mode": {
    "name": "ipython",
    "version": 3
   },
   "file_extension": ".py",
   "mimetype": "text/x-python",
   "name": "python",
   "nbconvert_exporter": "python",
   "pygments_lexer": "ipython3",
   "version": "3.9.2"
  }
 },
 "nbformat": 4,
 "nbformat_minor": 2
}
